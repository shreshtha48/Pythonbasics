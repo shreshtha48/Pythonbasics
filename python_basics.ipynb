{
 "cells": [
  {
   "cell_type": "markdown",
   "id": "05aaf2d0",
   "metadata": {},
   "source": [
    "# Introduction to python programming for datascience"
   ]
  },
  {
   "cell_type": "code",
   "execution_count": 5,
   "id": "83ca49ef",
   "metadata": {},
   "outputs": [],
   "source": [
    "#this is used to create interactive visualizations\n",
    "import ipywidgets as widgets"
   ]
  },
  {
   "cell_type": "markdown",
   "id": "df17b76f",
   "metadata": {},
   "source": [
    "Target audience: This notebook is aimed at complete begineers to programming and python in general and will guide the users through the fundamentals of python programming neccesary for data science"
   ]
  },
  {
   "cell_type": "markdown",
   "id": "e01c103f",
   "metadata": {},
   "source": [
    "1) What is python?\n",
    "Python is an open-source programming language that is used for a varitey of tasks, it is versatile and easy to understand as it is very similar to the natural language"
   ]
  },
  {
   "cell_type": "markdown",
   "id": "40188f8d",
   "metadata": {},
   "source": [
    "User Note: Comments are statements or lines which will not be executed and are only to make the code more user-freindly and understandable. The comments in the given notebook are denoted by '#' and multi-line comments can be created using triple single quotes"
   ]
  },
  {
   "cell_type": "markdown",
   "id": "ce1bd690",
   "metadata": {},
   "source": [
    "## Taking user input and displaying it"
   ]
  },
  {
   "cell_type": "code",
   "execution_count": 6,
   "id": "f57985ca",
   "metadata": {},
   "outputs": [
    {
     "name": "stdout",
     "output_type": "stream",
     "text": [
      "Hello world\n"
     ]
    }
   ],
   "source": [
    "#in python, in order to print anything to the screen, the print command is used. Given below is a simple program\n",
    "print(\"Hello world\")"
   ]
  },
  {
   "cell_type": "markdown",
   "id": "b09de111",
   "metadata": {},
   "source": [
    "Notice how the phrase hello world is encoded in strings, in python strings are printed using '',\" \" or \"\"\"  \"\"\". Having the option to choose between the double and single quotes is useful as it allows the user to embeed the quotes inside their strings\n",
    "\n",
    "2) What are strings?\n",
    "To put it simply, strings are nothing but a set of characters. They will be expanded in later sections as we deal with strings frequently"
   ]
  },
  {
   "cell_type": "markdown",
   "id": "dfcefe49",
   "metadata": {},
   "source": [
    "After learning how to print the message onto the user screen, it is equally important to learn how to take user input as this will prove to be very useful while performing tasks that require users entering the value manually. THe input is taken using the function input(). Let us perform a simple task to ask the user to enter their favourite fruit and print the favourite fruit"
   ]
  },
  {
   "cell_type": "code",
   "execution_count": 8,
   "id": "0df122d0",
   "metadata": {},
   "outputs": [
    {
     "name": "stdout",
     "output_type": "stream",
     "text": [
      "Please enter your favourite fruitApple\n",
      "Your favourite fruit is Apple\n"
     ]
    }
   ],
   "source": [
    "answer=input(\"Please enter your favourite fruit\")\n",
    "print(\"Your favourite fruit is\",answer)"
   ]
  },
  {
   "cell_type": "markdown",
   "id": "7743ca97",
   "metadata": {},
   "source": [
    "Notice how i entered the word answer and yet it printed what the user entered. How did it do that? that is done using the concept of variables"
   ]
  },
  {
   "cell_type": "markdown",
   "id": "d97521e1",
   "metadata": {},
   "source": [
    "## Variables in python"
   ]
  },
  {
   "cell_type": "markdown",
   "id": "5bb31f1d",
   "metadata": {},
   "source": [
    "Variables are nothing but containers which store the value that is given to them. One advantage of having variables is that you dont need to type the value again and again. Let's say we need sugar to cook food but instead of going to the grocery store to buy sugar everytime we need it, we can simply store the sugar in our house and use it when we need it\n",
    "\n",
    "In order to print a variable in python, we simply need to put the name of the variable inside the parantheses and not enclose that in quotations as then python would interpret that as string. Notice the difference between these two lines "
   ]
  },
  {
   "cell_type": "code",
   "execution_count": 9,
   "id": "c585796e",
   "metadata": {},
   "outputs": [
    {
     "name": "stdout",
     "output_type": "stream",
     "text": [
      "Apple\n",
      "answer\n"
     ]
    }
   ],
   "source": [
    "print(answer)\n",
    "print(\"answer\")"
   ]
  },
  {
   "cell_type": "markdown",
   "id": "9eea10d9",
   "metadata": {},
   "source": [
    "Variables can virtually store any type of values in python. Let us now take a look at the types of values offered in python, more commonly known as datatypes"
   ]
  },
  {
   "cell_type": "markdown",
   "id": "ac44aa66",
   "metadata": {},
   "source": [
    "## Data Types in Python"
   ]
  },
  {
   "cell_type": "markdown",
   "id": "53d4be7d",
   "metadata": {},
   "source": [
    "There are several datatypes in python but the most common ones are:\n",
    "1) String\n",
    "2) Int\n",
    "3) Float\n",
    "4) Bool\n",
    "5) List\n",
    "6) Tuple\n",
    "7) Dictonary\n",
    "8) Set\n",
    "Let us explore all of them one by one"
   ]
  },
  {
   "cell_type": "markdown",
   "id": "ecdc1df7",
   "metadata": {},
   "source": [
    "Strings in python are unicode characters and they can be created using double, single or triple quotes"
   ]
  },
  {
   "cell_type": "code",
   "execution_count": 11,
   "id": "c3d3884b",
   "metadata": {},
   "outputs": [
    {
     "name": "stdout",
     "output_type": "stream",
     "text": [
      "This is the first string\n",
      " This is a multiline string's typically used for paragraphs\n",
      " raw/n string\n"
     ]
    }
   ],
   "source": [
    "#String\n",
    "#There are several ways to write a string \n",
    "string1=\"This is the first string\"\n",
    "string2=\"\"\" This is a multiline string's typically used for paragraphs\"\"\"\n",
    "string3= r\" raw/n string\"\n",
    "print(string1)\n",
    "print(string2)\n",
    "print(string3)"
   ]
  },
  {
   "cell_type": "markdown",
   "id": "290d93a5",
   "metadata": {},
   "source": [
    "Whenever you create a variable in python, you don't need to assign the data type like in other languages. "
   ]
  },
  {
   "cell_type": "markdown",
   "id": "dc1f194f",
   "metadata": {},
   "source": [
    "Integers in python are numbers which are either zero, positive or negative numbers but they do not have any floating points. Integers are used extensively while performing computations"
   ]
  },
  {
   "cell_type": "code",
   "execution_count": 13,
   "id": "c3682d55",
   "metadata": {},
   "outputs": [
    {
     "name": "stdout",
     "output_type": "stream",
     "text": [
      "11\n"
     ]
    }
   ],
   "source": [
    "#int\n",
    "a=5\n",
    "b=6\n",
    "print(a+b)"
   ]
  },
  {
   "cell_type": "code",
   "execution_count": 26,
   "id": "ec5d4dd2",
   "metadata": {},
   "outputs": [
    {
     "data": {
      "application/vnd.jupyter.widget-view+json": {
       "model_id": "d222d6ae53e84a7197437674e79ccd81",
       "version_major": 2,
       "version_minor": 0
      },
      "text/plain": [
       "IntSlider(value=0)"
      ]
     },
     "metadata": {},
     "output_type": "display_data"
    }
   ],
   "source": [
    "#please ignore this code this is the code to display the below widget. Credits: Jupyernotebook docs\n",
    "w = widgets.IntSlider()\n",
    "display(w)\n"
   ]
  },
  {
   "cell_type": "markdown",
   "id": "970f53be",
   "metadata": {},
   "source": [
    "The given slider above has int values from 1 to 100 and notice that there are no floating points"
   ]
  },
  {
   "cell_type": "markdown",
   "id": "d9cd9582",
   "metadata": {},
   "source": [
    "Float is similar to int but it allows floating point numbers which means more precision. However, it also means that float is more memory intensive. Apart from real numbers, if you want to store imaginary numbers, complex data type is used"
   ]
  },
  {
   "cell_type": "code",
   "execution_count": 14,
   "id": "64fdf9ef",
   "metadata": {},
   "outputs": [
    {
     "name": "stdout",
     "output_type": "stream",
     "text": [
      "<class 'float'>\n",
      "<class 'complex'>\n"
     ]
    }
   ],
   "source": [
    "a=6.099\n",
    "b=5+7j\n",
    "print(type(a))\n",
    "print(type(b))"
   ]
  },
  {
   "cell_type": "markdown",
   "id": "9cf0f56a",
   "metadata": {},
   "source": [
    "Boolean data type is a built in data type which stores two values in python. Either true or false"
   ]
  },
  {
   "cell_type": "code",
   "execution_count": 15,
   "id": "6059b12a",
   "metadata": {},
   "outputs": [
    {
     "name": "stdout",
     "output_type": "stream",
     "text": [
      "<class 'bool'>\n"
     ]
    }
   ],
   "source": [
    "a= True\n",
    "print(type(a))"
   ]
  },
  {
   "cell_type": "markdown",
   "id": "85ec1559",
   "metadata": {},
   "source": [
    "Lists in python is used to store a set of values in a definitve order, which is usually changeable. The beauty of lists in python is that you can store values of different data types in the same lists. lists are usually denoted using []"
   ]
  },
  {
   "cell_type": "code",
   "execution_count": 16,
   "id": "33243fc4",
   "metadata": {},
   "outputs": [
    {
     "name": "stdout",
     "output_type": "stream",
     "text": [
      "<class 'list'>\n"
     ]
    }
   ],
   "source": [
    "a=[1,2,\"apple\",\"orange\"]\n",
    "print(type(a))"
   ]
  },
  {
   "cell_type": "markdown",
   "id": "8952c7ef",
   "metadata": {},
   "source": [
    "Tuples are similar to list but they can not be changed i.e they are immutable"
   ]
  },
  {
   "cell_type": "markdown",
   "id": "7f58f250",
   "metadata": {},
   "source": [
    "The dictonary data type in python uses key and value pairs to store the data and each value has a unique key"
   ]
  },
  {
   "cell_type": "code",
   "execution_count": 18,
   "id": "9dc79f64",
   "metadata": {},
   "outputs": [
    {
     "name": "stdout",
     "output_type": "stream",
     "text": [
      "{'sherlock': 'holmes', 'margeret': 'atwood', 'SHeldon': 'cooper'}\n"
     ]
    }
   ],
   "source": [
    "a={\"sherlock\":\"holmes\",\n",
    "  \"margeret\":\"atwood\",\n",
    "  \"SHeldon\":\"cooper\"}\n",
    "print(a)"
   ]
  },
  {
   "cell_type": "markdown",
   "id": "d3334a10",
   "metadata": {},
   "source": [
    "Set is used to store collection of the data, set is defined as the collection which is unordered, unchangable and unindexed"
   ]
  },
  {
   "cell_type": "code",
   "execution_count": 19,
   "id": "56a1c159",
   "metadata": {},
   "outputs": [
    {
     "name": "stdout",
     "output_type": "stream",
     "text": [
      "<class 'set'>\n"
     ]
    }
   ],
   "source": [
    "a={\"This\",\"is\",\"a\",\"set\"}\n",
    "print(type(a))"
   ]
  },
  {
   "cell_type": "markdown",
   "id": "b2da944d",
   "metadata": {},
   "source": [
    "## Type conversion"
   ]
  },
  {
   "cell_type": "markdown",
   "id": "29239495",
   "metadata": {},
   "source": [
    "Now that we know what the data types are in python, what if let's say instead of writing 5 as int, i need to change it to a string. In python, you can always implicilty mention a variable with a data type so that the python knows that you meant to store this as the following data type. However, for when the variable is already created, we can still change the data type and that process is known as typecasting"
   ]
  },
  {
   "cell_type": "code",
   "execution_count": 23,
   "id": "6d14fbf5",
   "metadata": {},
   "outputs": [
    {
     "name": "stdout",
     "output_type": "stream",
     "text": [
      "<class 'str'>\n"
     ]
    }
   ],
   "source": [
    "#created a variable which stores the value 5\n",
    "a=int(5)\n",
    "#converted the variable to the string\n",
    "a=str(a)\n",
    "print(type(a))"
   ]
  },
  {
   "cell_type": "code",
   "execution_count": null,
   "id": "65206c33",
   "metadata": {},
   "outputs": [],
   "source": []
  }
 ],
 "metadata": {
  "kernelspec": {
   "display_name": "Python 3 (ipykernel)",
   "language": "python",
   "name": "python3"
  },
  "language_info": {
   "codemirror_mode": {
    "name": "ipython",
    "version": 3
   },
   "file_extension": ".py",
   "mimetype": "text/x-python",
   "name": "python",
   "nbconvert_exporter": "python",
   "pygments_lexer": "ipython3",
   "version": "3.10.6"
  }
 },
 "nbformat": 4,
 "nbformat_minor": 5
}
